{
 "cells": [
  {
   "cell_type": "code",
   "execution_count": 1,
   "id": "5db5f774-ce17-4d5a-b1da-942951f30bcb",
   "metadata": {},
   "outputs": [
    {
     "name": "stdout",
     "output_type": "stream",
     "text": [
      "total 4\n",
      "-rw-r--r-- 1 jovyan users  0 Jul 27 11:15 one.txt\n",
      "-rw-r--r-- 1 jovyan users 72 Jul 27 11:16 Untitled.ipynb\n"
     ]
    }
   ],
   "source": [
    "ls -ltr"
   ]
  },
  {
   "cell_type": "code",
   "execution_count": null,
   "id": "bb1cbc6c-4328-49cc-b4b6-d4db128f6822",
   "metadata": {},
   "outputs": [],
   "source": []
  }
 ],
 "metadata": {
  "kernelspec": {
   "display_name": "Bash",
   "language": "bash",
   "name": "bash"
  },
  "language_info": {
   "codemirror_mode": "shell",
   "file_extension": ".sh",
   "mimetype": "text/x-sh",
   "name": "bash"
  }
 },
 "nbformat": 4,
 "nbformat_minor": 5
}
